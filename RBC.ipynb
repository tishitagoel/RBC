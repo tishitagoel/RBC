{
  "nbformat": 4,
  "nbformat_minor": 0,
  "metadata": {
    "colab": {
      "name": "RBC.ipynb",
      "provenance": [],
      "collapsed_sections": [],
      "mount_file_id": "1KYBtw-V_FO7cJWzawkopxR-HuYrat-MU",
      "authorship_tag": "ABX9TyPWfEqzpGLgijT6YqfcNC1M",
      "include_colab_link": true
    },
    "kernelspec": {
      "name": "python3",
      "display_name": "Python 3"
    },
    "language_info": {
      "name": "python"
    }
  },
  "cells": [
    {
      "cell_type": "markdown",
      "metadata": {
        "id": "view-in-github",
        "colab_type": "text"
      },
      "source": [
        "<a href=\"https://colab.research.google.com/github/tishitagoel/RBC/blob/main/RBC.ipynb\" target=\"_parent\"><img src=\"https://colab.research.google.com/assets/colab-badge.svg\" alt=\"Open In Colab\"/></a>"
      ]
    },
    {
      "cell_type": "code",
      "metadata": {
        "id": "9LwxmBPk7YJs"
      },
      "source": [
        "import tensorflow as tf\n",
        "import keras \n",
        "from matplotlib import pyplot as plt\n",
        "from keras.preprocessing.image import ImageDataGenerator\n",
        "from skimage import io\n",
        "\n",
        "\n",
        "datagen = ImageDataGenerator(\n",
        "        rotation_range=45,     #Random rotation between 0 and 45\n",
        "        width_shift_range=0.2,   #% shift\n",
        "        height_shift_range=0.2,\n",
        "        shear_range=0.2,\n",
        "        zoom_range=0.2,\n",
        "        horizontal_flip=True,\n",
        "        fill_mode='nearest')    #Also try nearest, constant, reflect, wrap\n",
        "\n"
      ],
      "execution_count": 17,
      "outputs": []
    },
    {
      "cell_type": "markdown",
      "metadata": {
        "id": "p-82nZOCqTad"
      },
      "source": [
        "**creating macrocyte dataset**"
      ]
    },
    {
      "cell_type": "code",
      "metadata": {
        "id": "l1JRZChto3ra"
      },
      "source": [
        "dataset = []\n",
        "\n",
        "import numpy as np\n",
        "import os\n",
        "from PIL import Image\n",
        "\n",
        "image_directory = '/content/drive/MyDrive/RBC/test/macrocyte/'\n",
        "SIZE = 150\n",
        "dataset = []\n",
        "\n",
        "my_images = os.listdir(image_directory)\n",
        "for i, image_name in enumerate(my_images):\n",
        "    if (image_name.split('.')[1] == 'jpeg'):\n",
        "        image = io.imread(image_directory + image_name)\n",
        "        image = Image.fromarray(image, 'RGB')\n",
        "        image = image.resize((SIZE,SIZE))\n",
        "        dataset.append(np.array(image))\n",
        "\n",
        "x = np.array(dataset)"
      ],
      "execution_count": 18,
      "outputs": []
    },
    {
      "cell_type": "code",
      "metadata": {
        "id": "FnpsQkGhpRd1"
      },
      "source": [
        "i = 0\n",
        "for batch in datagen.flow(x, batch_size=16,  \n",
        "                          save_to_dir='/content/drive/MyDrive/RBC/augmented/train/macrocyte', \n",
        "                          save_prefix='aug', \n",
        "                          save_format='png'):\n",
        "    i += 1\n",
        "    if i > 25:\n",
        "        break "
      ],
      "execution_count": 19,
      "outputs": []
    },
    {
      "cell_type": "markdown",
      "metadata": {
        "id": "VprN_z0TqaMq"
      },
      "source": [
        "**creating normal dataset**"
      ]
    },
    {
      "cell_type": "code",
      "metadata": {
        "id": "zAWmwujTqkUl"
      },
      "source": [
        "dataset = []\n",
        "\n",
        "import numpy as np\n",
        "import os\n",
        "from PIL import Image\n",
        "\n",
        "image_directory = '/content/drive/MyDrive/RBC/test/normal/'\n",
        "SIZE = 150\n",
        "dataset = []\n",
        "\n",
        "my_images = os.listdir(image_directory)\n",
        "for i, image_name in enumerate(my_images):\n",
        "    if (image_name.split('.')[1] == 'jpeg'):\n",
        "        image = io.imread(image_directory + image_name)\n",
        "        image = Image.fromarray(image, 'RGB')\n",
        "        image = image.resize((SIZE,SIZE))\n",
        "        dataset.append(np.array(image))\n",
        "\n",
        "x = np.array(dataset)"
      ],
      "execution_count": 20,
      "outputs": []
    },
    {
      "cell_type": "code",
      "metadata": {
        "id": "W741R7uNq7oD"
      },
      "source": [
        "i = 0\n",
        "for batch in datagen.flow(x, batch_size=16,  \n",
        "                          save_to_dir='/content/drive/MyDrive/RBC/augmented/train/normal', \n",
        "                          save_prefix='aug', \n",
        "                          save_format='png'):\n",
        "    i += 1\n",
        "    if i > 25:\n",
        "        break "
      ],
      "execution_count": 21,
      "outputs": []
    },
    {
      "cell_type": "markdown",
      "metadata": {
        "id": "MjqcsHF7rinb"
      },
      "source": [
        "**creating validation data** \n",
        "           macrocyte\n"
      ]
    },
    {
      "cell_type": "code",
      "metadata": {
        "id": "ag3JUrNVr-lM"
      },
      "source": [
        "dataset = []\n",
        "\n",
        "import numpy as np\n",
        "import os\n",
        "from PIL import Image\n",
        "\n",
        "image_directory = '/content/drive/MyDrive/RBC/validation/macrocyte/'\n",
        "SIZE = 150\n",
        "dataset = []\n",
        "\n",
        "my_images = os.listdir(image_directory)\n",
        "for i, image_name in enumerate(my_images):\n",
        "    if (image_name.split('.')[1] == 'jpeg'):\n",
        "        image = io.imread(image_directory + image_name)\n",
        "        image = Image.fromarray(image, 'RGB')\n",
        "        image = image.resize((SIZE,SIZE))\n",
        "        dataset.append(np.array(image))\n",
        "\n",
        "x = np.array(dataset)"
      ],
      "execution_count": 22,
      "outputs": []
    },
    {
      "cell_type": "code",
      "metadata": {
        "id": "XqML_oTXsIj3"
      },
      "source": [
        "i = 0\n",
        "for batch in datagen.flow(x, batch_size=16,  \n",
        "                          save_to_dir='/content/drive/MyDrive/RBC/augmented/validation/macrocyte', \n",
        "                          save_prefix='aug', \n",
        "                          save_format='png'):\n",
        "    i += 1\n",
        "    if i > 1:\n",
        "        break "
      ],
      "execution_count": 23,
      "outputs": []
    },
    {
      "cell_type": "markdown",
      "metadata": {
        "id": "A8paJT6Ussn1"
      },
      "source": [
        "**creating validation data** normal\n"
      ]
    },
    {
      "cell_type": "code",
      "metadata": {
        "id": "9xMZ55M6s01Z"
      },
      "source": [
        "dataset = []\n",
        "\n",
        "import numpy as np\n",
        "import os\n",
        "from PIL import Image\n",
        "\n",
        "image_directory = '/content/drive/MyDrive/RBC/validation/normal/'\n",
        "SIZE = 150\n",
        "dataset = []\n",
        "\n",
        "my_images = os.listdir(image_directory)\n",
        "for i, image_name in enumerate(my_images):\n",
        "    if (image_name.split('.')[1] == 'jpeg'):\n",
        "        image = io.imread(image_directory + image_name)\n",
        "        image = Image.fromarray(image, 'RGB')\n",
        "        image = image.resize((SIZE,SIZE))\n",
        "        dataset.append(np.array(image))\n",
        "\n",
        "x = np.array(dataset)"
      ],
      "execution_count": 24,
      "outputs": []
    },
    {
      "cell_type": "code",
      "metadata": {
        "id": "vLHEpSxGs61V"
      },
      "source": [
        "i = 0\n",
        "for batch in datagen.flow(x, batch_size=16,  \n",
        "                          save_to_dir='/content/drive/MyDrive/RBC/augmented/validation/normal', \n",
        "                          save_prefix='aug', \n",
        "                          save_format='png'):\n",
        "    i += 1\n",
        "    if i > 1:\n",
        "        break "
      ],
      "execution_count": 25,
      "outputs": []
    }
  ]
}