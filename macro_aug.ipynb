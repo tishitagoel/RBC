{
  "nbformat": 4,
  "nbformat_minor": 0,
  "metadata": {
    "colab": {
      "name": "macro_aug.ipynb",
      "provenance": [],
      "mount_file_id": "1wS8XWDkvJ6RHYTj2vllWWHXPswyE6bYG",
      "authorship_tag": "ABX9TyO6df5chvSng33UjHE5p5GU",
      "include_colab_link": true
    },
    "kernelspec": {
      "name": "python3",
      "display_name": "Python 3"
    },
    "language_info": {
      "name": "python"
    }
  },
  "cells": [
    {
      "cell_type": "markdown",
      "metadata": {
        "id": "view-in-github",
        "colab_type": "text"
      },
      "source": [
        "<a href=\"https://colab.research.google.com/github/tishitagoel/RBC/blob/main/macro_aug.ipynb\" target=\"_parent\"><img src=\"https://colab.research.google.com/assets/colab-badge.svg\" alt=\"Open In Colab\"/></a>"
      ]
    },
    {
      "cell_type": "markdown",
      "metadata": {
        "id": "_s1ZGz9bNN9o"
      },
      "source": [
        "# **DATA AUGMENTATION**"
      ]
    },
    {
      "cell_type": "markdown",
      "metadata": {
        "id": "b3WbWH8bNTQT"
      },
      "source": [
        "IMPORTING LIBRARIES AND INITIALISING THE MODEL"
      ]
    },
    {
      "cell_type": "code",
      "metadata": {
        "id": "9LwxmBPk7YJs"
      },
      "source": [
        "import tensorflow as tf\n",
        "import keras \n",
        "from matplotlib import pyplot as plt\n",
        "from keras.preprocessing.image import ImageDataGenerator\n",
        "from skimage import io\n",
        "\n",
        "\n",
        "datagen = ImageDataGenerator(\n",
        "        rotation_range=45,     #Random rotation between 0 and 45\n",
        "        width_shift_range=0.1,   \n",
        "        height_shift_range=0.1,\n",
        "        shear_range=0.1,\n",
        "        #zoom_range=0.05,\n",
        "        horizontal_flip=True,\n",
        "        fill_mode='reflect')    \n",
        "\n"
      ],
      "execution_count": 4,
      "outputs": []
    },
    {
      "cell_type": "markdown",
      "metadata": {
        "id": "zSLRA6rLNad6"
      },
      "source": [
        "CREATING MACROCYTE DATASET"
      ]
    },
    {
      "cell_type": "code",
      "metadata": {
        "id": "l1JRZChto3ra"
      },
      "source": [
        "#TRAINING\n",
        "dataset = []\n",
        "\n",
        "import numpy as np\n",
        "import os\n",
        "from PIL import Image\n",
        "\n",
        "image_directory = '/content/drive/MyDrive/RBC/Macrocyte_Class/macrocyte_orig/'\n",
        "SIZE = 150\n",
        "dataset = []\n",
        "\n",
        "my_images = os.listdir(image_directory)\n",
        "for i, image_name in enumerate(my_images):\n",
        "    if (image_name.split('.')[1] == 'jpg'):\n",
        "        image = io.imread(image_directory + image_name)\n",
        "        image = Image.fromarray(image, 'RGB')\n",
        "        image = image.resize((SIZE,SIZE))\n",
        "        dataset.append(np.array(image))\n",
        "\n",
        "x = np.array(dataset)"
      ],
      "execution_count": null,
      "outputs": []
    },
    {
      "cell_type": "code",
      "metadata": {
        "id": "FnpsQkGhpRd1"
      },
      "source": [
        "i = 0\n",
        "for batch in datagen.flow(x, batch_size=16,  \n",
        "                          save_to_dir='/content/drive/MyDrive/RBC/Macrocyte_Class/training_aug/macrocyte', \n",
        "                          save_prefix='aug', \n",
        "                          save_format='jpg'):\n",
        "    i += 1\n",
        "    if i > 12:\n",
        "        break "
      ],
      "execution_count": null,
      "outputs": []
    },
    {
      "cell_type": "code",
      "metadata": {
        "id": "zAWmwujTqkUl"
      },
      "source": [
        "#VALIDATION\n",
        "dataset = []\n",
        "\n",
        "import numpy as np\n",
        "import os\n",
        "from PIL import Image\n",
        "\n",
        "image_directory = '/content/drive/MyDrive/RBC/Macrocyte_Class/macrocyte_val/'\n",
        "SIZE = 150\n",
        "dataset = []\n",
        "\n",
        "my_images = os.listdir(image_directory)\n",
        "for i, image_name in enumerate(my_images):\n",
        "    if (image_name.split('.')[1] == 'jpg'):\n",
        "        image = io.imread(image_directory + image_name)\n",
        "        image = Image.fromarray(image, 'RGB')\n",
        "        image = image.resize((SIZE,SIZE))\n",
        "        dataset.append(np.array(image))\n",
        "\n",
        "x = np.array(dataset)"
      ],
      "execution_count": 5,
      "outputs": []
    },
    {
      "cell_type": "code",
      "metadata": {
        "id": "W741R7uNq7oD"
      },
      "source": [
        "i = 0\n",
        "for batch in datagen.flow(x, batch_size=16,  \n",
        "                          save_to_dir='/content/drive/MyDrive/RBC/Macrocyte_Class/validation_aug/macrocyte', \n",
        "                          save_prefix='aug', \n",
        "                          save_format='jpg'):\n",
        "    i += 1\n",
        "    if i > 2:\n",
        "        break "
      ],
      "execution_count": 6,
      "outputs": []
    }
  ]
}