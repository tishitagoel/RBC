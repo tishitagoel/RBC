{
  "nbformat": 4,
  "nbformat_minor": 0,
  "metadata": {
    "colab": {
      "name": "RBC_AUG.ipynb",
      "provenance": [],
      "collapsed_sections": [],
      "mount_file_id": "1KYBtw-V_FO7cJWzawkopxR-HuYrat-MU",
      "authorship_tag": "ABX9TyPkPDqA8xr9hTPD4nUkx/YK",
      "include_colab_link": true
    },
    "kernelspec": {
      "name": "python3",
      "display_name": "Python 3"
    },
    "language_info": {
      "name": "python"
    }
  },
  "cells": [
    {
      "cell_type": "markdown",
      "metadata": {
        "id": "view-in-github",
        "colab_type": "text"
      },
      "source": [
        "<a href=\"https://colab.research.google.com/github/tishitagoel/RBC/blob/main/RBC_AUG.ipynb\" target=\"_parent\"><img src=\"https://colab.research.google.com/assets/colab-badge.svg\" alt=\"Open In Colab\"/></a>"
      ]
    },
    {
      "cell_type": "markdown",
      "metadata": {
        "id": "qUK0wd2fg_r4"
      },
      "source": [
        "## **DATA AUGMENTATION**"
      ]
    },
    {
      "cell_type": "markdown",
      "metadata": {
        "id": "iu97vCachN3T"
      },
      "source": [
        "IMPORTING LIBRARIES AND INITIALISING THE MODEL"
      ]
    },
    {
      "cell_type": "code",
      "metadata": {
        "id": "9LwxmBPk7YJs"
      },
      "source": [
        "import tensorflow as tf\n",
        "import keras \n",
        "from matplotlib import pyplot as plt\n",
        "from keras.preprocessing.image import ImageDataGenerator\n",
        "from skimage import io\n",
        "\n",
        "\n",
        "datagen = ImageDataGenerator(\n",
        "        rotation_range=45,     #Random rotation between 0 and 45\n",
        "        width_shift_range=0.2,   \n",
        "        height_shift_range=0.2,\n",
        "        shear_range=0.2,\n",
        "        zoom_range=0.2,\n",
        "        horizontal_flip=True,\n",
        "        fill_mode='nearest')    \n",
        "\n"
      ],
      "execution_count": null,
      "outputs": []
    },
    {
      "cell_type": "markdown",
      "metadata": {
        "id": "p-82nZOCqTad"
      },
      "source": [
        "CREATING TRAINING DATASET"
      ]
    },
    {
      "cell_type": "code",
      "metadata": {
        "id": "l1JRZChto3ra"
      },
      "source": [
        "#MACROCYTE\n",
        "dataset = []\n",
        "\n",
        "import numpy as np\n",
        "import os\n",
        "from PIL import Image\n",
        "\n",
        "image_directory = '/content/drive/MyDrive/RBC/test/macrocyte/'\n",
        "SIZE = 150\n",
        "dataset = []\n",
        "\n",
        "my_images = os.listdir(image_directory)\n",
        "for i, image_name in enumerate(my_images):\n",
        "    if (image_name.split('.')[1] == 'jpeg'):\n",
        "        image = io.imread(image_directory + image_name)\n",
        "        image = Image.fromarray(image, 'RGB')\n",
        "        image = image.resize((SIZE,SIZE))\n",
        "        dataset.append(np.array(image))\n",
        "\n",
        "x = np.array(dataset)"
      ],
      "execution_count": null,
      "outputs": []
    },
    {
      "cell_type": "code",
      "metadata": {
        "id": "FnpsQkGhpRd1"
      },
      "source": [
        "i = 0\n",
        "for batch in datagen.flow(x, batch_size=16,  \n",
        "                          save_to_dir='/content/drive/MyDrive/RBC/augmented/train/macrocyte', \n",
        "                          save_prefix='aug', \n",
        "                          save_format='png'):\n",
        "    i += 1\n",
        "    if i > 25:\n",
        "        break "
      ],
      "execution_count": null,
      "outputs": []
    },
    {
      "cell_type": "code",
      "metadata": {
        "id": "zAWmwujTqkUl"
      },
      "source": [
        "#NORMAL\n",
        "dataset = []\n",
        "\n",
        "import numpy as np\n",
        "import os\n",
        "from PIL import Image\n",
        "\n",
        "image_directory = '/content/drive/MyDrive/RBC/test/normal/'\n",
        "SIZE = 150\n",
        "dataset = []\n",
        "\n",
        "my_images = os.listdir(image_directory)\n",
        "for i, image_name in enumerate(my_images):\n",
        "    if (image_name.split('.')[1] == 'jpeg'):\n",
        "        image = io.imread(image_directory + image_name)\n",
        "        image = Image.fromarray(image, 'RGB')\n",
        "        image = image.resize((SIZE,SIZE))\n",
        "        dataset.append(np.array(image))\n",
        "\n",
        "x = np.array(dataset)"
      ],
      "execution_count": null,
      "outputs": []
    },
    {
      "cell_type": "code",
      "metadata": {
        "id": "W741R7uNq7oD"
      },
      "source": [
        "i = 0\n",
        "for batch in datagen.flow(x, batch_size=16,  \n",
        "                          save_to_dir='/content/drive/MyDrive/RBC/augmented/train/normal', \n",
        "                          save_prefix='aug', \n",
        "                          save_format='png'):\n",
        "    i += 1\n",
        "    if i > 25:\n",
        "        break "
      ],
      "execution_count": null,
      "outputs": []
    },
    {
      "cell_type": "markdown",
      "metadata": {
        "id": "MjqcsHF7rinb"
      },
      "source": [
        "CREATING VALIDATION DATASET"
      ]
    },
    {
      "cell_type": "code",
      "metadata": {
        "id": "ag3JUrNVr-lM"
      },
      "source": [
        "#MACROCYTE\n",
        "dataset = []\n",
        "\n",
        "import numpy as np\n",
        "import os\n",
        "from PIL import Image\n",
        "\n",
        "image_directory = '/content/drive/MyDrive/RBC/validation/macrocyte/'\n",
        "SIZE = 150\n",
        "dataset = []\n",
        "\n",
        "my_images = os.listdir(image_directory)\n",
        "for i, image_name in enumerate(my_images):\n",
        "    if (image_name.split('.')[1] == 'jpeg'):\n",
        "        image = io.imread(image_directory + image_name)\n",
        "        image = Image.fromarray(image, 'RGB')\n",
        "        image = image.resize((SIZE,SIZE))\n",
        "        dataset.append(np.array(image))\n",
        "\n",
        "x = np.array(dataset)"
      ],
      "execution_count": null,
      "outputs": []
    },
    {
      "cell_type": "code",
      "metadata": {
        "id": "XqML_oTXsIj3"
      },
      "source": [
        "i = 0\n",
        "for batch in datagen.flow(x, batch_size=16,  \n",
        "                          save_to_dir='/content/drive/MyDrive/RBC/augmented/validation/macrocyte', \n",
        "                          save_prefix='aug', \n",
        "                          save_format='png'):\n",
        "    i += 1\n",
        "    if i > 1:\n",
        "        break "
      ],
      "execution_count": null,
      "outputs": []
    },
    {
      "cell_type": "code",
      "metadata": {
        "id": "9xMZ55M6s01Z"
      },
      "source": [
        "#NORMAL\n",
        "dataset = []\n",
        "\n",
        "import numpy as np\n",
        "import os\n",
        "from PIL import Image\n",
        "\n",
        "image_directory = '/content/drive/MyDrive/RBC/validation/normal/'\n",
        "SIZE = 150\n",
        "dataset = []\n",
        "\n",
        "my_images = os.listdir(image_directory)\n",
        "for i, image_name in enumerate(my_images):\n",
        "    if (image_name.split('.')[1] == 'jpeg'):\n",
        "        image = io.imread(image_directory + image_name)\n",
        "        image = Image.fromarray(image, 'RGB')\n",
        "        image = image.resize((SIZE,SIZE))\n",
        "        dataset.append(np.array(image))\n",
        "\n",
        "x = np.array(dataset)"
      ],
      "execution_count": null,
      "outputs": []
    },
    {
      "cell_type": "code",
      "metadata": {
        "id": "vLHEpSxGs61V"
      },
      "source": [
        "i = 0\n",
        "for batch in datagen.flow(x, batch_size=16,  \n",
        "                          save_to_dir='/content/drive/MyDrive/RBC/augmented/validation/normal', \n",
        "                          save_prefix='aug', \n",
        "                          save_format='png'):\n",
        "    i += 1\n",
        "    if i > 1:\n",
        "        break "
      ],
      "execution_count": null,
      "outputs": []
    }
  ]
}